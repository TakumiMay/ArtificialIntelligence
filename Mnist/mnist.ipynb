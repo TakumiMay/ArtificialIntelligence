{
  "nbformat": 4,
  "nbformat_minor": 0,
  "metadata": {
    "file_extension": ".py",
    "kernelspec": {
      "display_name": "Python 3",
      "language": "python",
      "name": "python3"
    },
    "language_info": {
      "codemirror_mode": {
        "name": "ipython",
        "version": 3
      },
      "file_extension": ".py",
      "mimetype": "text/x-python",
      "name": "python",
      "nbconvert_exporter": "python",
      "pygments_lexer": "ipython3",
      "version": "3.7.6-final"
    },
    "mimetype": "text/x-python",
    "name": "python",
    "npconvert_exporter": "python",
    "pygments_lexer": "ipython3",
    "version": 3,
    "colab": {
      "name": "mnist.ipynb",
      "provenance": [],
      "include_colab_link": true
    }
  },
  "cells": [
    {
      "cell_type": "markdown",
      "metadata": {
        "id": "view-in-github",
        "colab_type": "text"
      },
      "source": [
        "<a href=\"https://colab.research.google.com/github/TakumiMay/ArtificialIntelligence/blob/master/mnist.ipynb\" target=\"_parent\"><img src=\"https://colab.research.google.com/assets/colab-badge.svg\" alt=\"Open In Colab\"/></a>"
      ]
    },
    {
      "cell_type": "markdown",
      "metadata": {
        "id": "UPEqIZmqO4lY",
        "colab_type": "text"
      },
      "source": [
        "# Excercise: MNIST Digits\n",
        "\n",
        "```\n",
        "Integrante 1: <>\n",
        "Integrante 2: <>\n",
        "Integrante 3: <>\n",
        "```\n",
        "\n",
        "[MNIST digits](http://yann.lecun.com/exdb/mnist/) is a dataset of written digits composed of 70000 black and white images. This dataset is a classic amongst people learning to apply machine learning models, specifically to pattern/image recognition. Of the 70K images, 60K are labeled examples and 10K are a validation set. These images are preprocessed so that they may be easily experimented with using machine learning.\n",
        "\n",
        "Lets load a downsized version of this dataset from the scikit-learn package."
      ]
    },
    {
      "cell_type": "code",
      "metadata": {
        "id": "ncZciJ7wO4lf",
        "colab_type": "code",
        "colab": {}
      },
      "source": [
        "from sklearn.datasets import load_digits"
      ],
      "execution_count": 0,
      "outputs": []
    },
    {
      "cell_type": "markdown",
      "metadata": {
        "id": "JPomFlb1O4ls",
        "colab_type": "text"
      },
      "source": [
        "This imports a function that will be used to load the digits. This particular version has 1797 images and each one has been downscaled to 8x8, as opposed to the original size of 28x28."
      ]
    },
    {
      "cell_type": "code",
      "metadata": {
        "id": "NmM0-QxJO4lu",
        "colab_type": "code",
        "outputId": "f45d9337-7643-4e58-94c9-1a294792754f",
        "colab": {
          "base_uri": "https://localhost:8080/",
          "height": 255
        }
      },
      "source": [
        "digits, target = load_digits(return_X_y=True)\n",
        "\n",
        "def describe_ndarray(ndarr):\n",
        "  print(f'Type: {type(ndarr)}')\n",
        "  print(f'Dimensions: {ndarr.ndim}')\n",
        "  print(f'Size: {ndarr.size}')\n",
        "  print(f'Shape: {ndarr.shape}')\n",
        "  print(f'Type: {ndarr.dtype.name}')\n",
        "  print(f'Item size: {ndarr.itemsize}')\n",
        "  print()\n",
        "\n",
        "describe_ndarray(digits)\n",
        "describe_ndarray(target)"
      ],
      "execution_count": 6,
      "outputs": [
        {
          "output_type": "stream",
          "text": [
            "Type: <class 'numpy.ndarray'>\n",
            "Dimensions: 2\n",
            "Size: 115008\n",
            "Shape: (1797, 64)\n",
            "Type: float64\n",
            "Item size: 8\n",
            "\n",
            "Type: <class 'numpy.ndarray'>\n",
            "Dimensions: 1\n",
            "Size: 1797\n",
            "Shape: (1797,)\n",
            "Type: int64\n",
            "Item size: 8\n",
            "\n"
          ],
          "name": "stdout"
        }
      ]
    },
    {
      "cell_type": "markdown",
      "metadata": {
        "id": "KbzypkWzO4l5",
        "colab_type": "text"
      },
      "source": [
        "Here we can see that we have two ndarrays, the first contains 1797 arrays of 64 (flattened 8x8 image) and the second has 1797 numbers, which correspond to the label of the digit. Lets try to visualize this."
      ]
    },
    {
      "cell_type": "code",
      "metadata": {
        "id": "az_ImFmZO4l8",
        "colab_type": "code",
        "outputId": "b5ad13ac-6d1f-4b46-c444-793bd5c4b20e",
        "colab": {
          "base_uri": "https://localhost:8080/",
          "height": 306
        }
      },
      "source": [
        "print(digits[:4,])\n",
        "print(target[:4,])"
      ],
      "execution_count": 7,
      "outputs": [
        {
          "output_type": "stream",
          "text": [
            "[[ 0.  0.  5. 13.  9.  1.  0.  0.  0.  0. 13. 15. 10. 15.  5.  0.  0.  3.\n",
            "  15.  2.  0. 11.  8.  0.  0.  4. 12.  0.  0.  8.  8.  0.  0.  5.  8.  0.\n",
            "   0.  9.  8.  0.  0.  4. 11.  0.  1. 12.  7.  0.  0.  2. 14.  5. 10. 12.\n",
            "   0.  0.  0.  0.  6. 13. 10.  0.  0.  0.]\n",
            " [ 0.  0.  0. 12. 13.  5.  0.  0.  0.  0.  0. 11. 16.  9.  0.  0.  0.  0.\n",
            "   3. 15. 16.  6.  0.  0.  0.  7. 15. 16. 16.  2.  0.  0.  0.  0.  1. 16.\n",
            "  16.  3.  0.  0.  0.  0.  1. 16. 16.  6.  0.  0.  0.  0.  1. 16. 16.  6.\n",
            "   0.  0.  0.  0.  0. 11. 16. 10.  0.  0.]\n",
            " [ 0.  0.  0.  4. 15. 12.  0.  0.  0.  0.  3. 16. 15. 14.  0.  0.  0.  0.\n",
            "   8. 13.  8. 16.  0.  0.  0.  0.  1.  6. 15. 11.  0.  0.  0.  1.  8. 13.\n",
            "  15.  1.  0.  0.  0.  9. 16. 16.  5.  0.  0.  0.  0.  3. 13. 16. 16. 11.\n",
            "   5.  0.  0.  0.  0.  3. 11. 16.  9.  0.]\n",
            " [ 0.  0.  7. 15. 13.  1.  0.  0.  0.  8. 13.  6. 15.  4.  0.  0.  0.  2.\n",
            "   1. 13. 13.  0.  0.  0.  0.  0.  2. 15. 11.  1.  0.  0.  0.  0.  0.  1.\n",
            "  12. 12.  1.  0.  0.  0.  0.  0.  1. 10.  8.  0.  0.  0.  8.  4.  5. 14.\n",
            "   9.  0.  0.  0.  7. 13. 13.  9.  0.  0.]]\n",
            "[0 1 2 3]\n"
          ],
          "name": "stdout"
        }
      ]
    },
    {
      "cell_type": "markdown",
      "metadata": {
        "id": "VMx5MK_lO4mF",
        "colab_type": "text"
      },
      "source": [
        "These are the first 3 digits, but it's difficult to see the image and verify if they match the labels, lets reshape the data and try again."
      ]
    },
    {
      "cell_type": "code",
      "metadata": {
        "id": "qD60npeYO4mI",
        "colab_type": "code",
        "outputId": "4b112ead-8381-48d5-d43d-7a762914bc45",
        "colab": {
          "base_uri": "https://localhost:8080/",
          "height": 612
        }
      },
      "source": [
        "digits_square = digits.reshape(-1, 8, 8)\n",
        "\n",
        "print(digits_square[:4,])\n",
        "\n",
        "#print(digits_square[0][:,1:2])\n",
        "#theCol = digits_square[0][:,1:2]\n",
        "#print(theCol)\n",
        "#av = np.average(theCol)\n",
        "#print(av)"
      ],
      "execution_count": 8,
      "outputs": [
        {
          "output_type": "stream",
          "text": [
            "[[[ 0.  0.  5. 13.  9.  1.  0.  0.]\n",
            "  [ 0.  0. 13. 15. 10. 15.  5.  0.]\n",
            "  [ 0.  3. 15.  2.  0. 11.  8.  0.]\n",
            "  [ 0.  4. 12.  0.  0.  8.  8.  0.]\n",
            "  [ 0.  5.  8.  0.  0.  9.  8.  0.]\n",
            "  [ 0.  4. 11.  0.  1. 12.  7.  0.]\n",
            "  [ 0.  2. 14.  5. 10. 12.  0.  0.]\n",
            "  [ 0.  0.  6. 13. 10.  0.  0.  0.]]\n",
            "\n",
            " [[ 0.  0.  0. 12. 13.  5.  0.  0.]\n",
            "  [ 0.  0.  0. 11. 16.  9.  0.  0.]\n",
            "  [ 0.  0.  3. 15. 16.  6.  0.  0.]\n",
            "  [ 0.  7. 15. 16. 16.  2.  0.  0.]\n",
            "  [ 0.  0.  1. 16. 16.  3.  0.  0.]\n",
            "  [ 0.  0.  1. 16. 16.  6.  0.  0.]\n",
            "  [ 0.  0.  1. 16. 16.  6.  0.  0.]\n",
            "  [ 0.  0.  0. 11. 16. 10.  0.  0.]]\n",
            "\n",
            " [[ 0.  0.  0.  4. 15. 12.  0.  0.]\n",
            "  [ 0.  0.  3. 16. 15. 14.  0.  0.]\n",
            "  [ 0.  0.  8. 13.  8. 16.  0.  0.]\n",
            "  [ 0.  0.  1.  6. 15. 11.  0.  0.]\n",
            "  [ 0.  1.  8. 13. 15.  1.  0.  0.]\n",
            "  [ 0.  9. 16. 16.  5.  0.  0.  0.]\n",
            "  [ 0.  3. 13. 16. 16. 11.  5.  0.]\n",
            "  [ 0.  0.  0.  3. 11. 16.  9.  0.]]\n",
            "\n",
            " [[ 0.  0.  7. 15. 13.  1.  0.  0.]\n",
            "  [ 0.  8. 13.  6. 15.  4.  0.  0.]\n",
            "  [ 0.  2.  1. 13. 13.  0.  0.  0.]\n",
            "  [ 0.  0.  2. 15. 11.  1.  0.  0.]\n",
            "  [ 0.  0.  0.  1. 12. 12.  1.  0.]\n",
            "  [ 0.  0.  0.  0.  1. 10.  8.  0.]\n",
            "  [ 0.  0.  8.  4.  5. 14.  9.  0.]\n",
            "  [ 0.  0.  7. 13. 13.  9.  0.  0.]]]\n"
          ],
          "name": "stdout"
        }
      ]
    },
    {
      "cell_type": "markdown",
      "metadata": {
        "id": "7nAQaFQNO4mP",
        "colab_type": "text"
      },
      "source": [
        "Now that we have squared the digits, it's easier to see if they're numbers, but we can do something better with matplotlib."
      ]
    },
    {
      "cell_type": "code",
      "metadata": {
        "id": "_3eFKmW4O4mT",
        "colab_type": "code",
        "colab": {}
      },
      "source": [
        "import matplotlib.pyplot as plt"
      ],
      "execution_count": 0,
      "outputs": []
    },
    {
      "cell_type": "code",
      "metadata": {
        "id": "BGRe5jLMO4mc",
        "colab_type": "code",
        "outputId": "d3b5af81-d9c1-4d62-840c-6db50631e8ee",
        "colab": {
          "base_uri": "https://localhost:8080/",
          "height": 282
        }
      },
      "source": [
        "plt.gray()\n",
        "\n",
        "plt.figure()\n",
        "\n",
        "plt.subplot(2,2,1)\n",
        "plt.imshow(digits_square[1])\n",
        "\n",
        "plt.subplot(2,2,2)\n",
        "plt.imshow(digits_square[8])\n",
        "\n",
        "plt.subplot(2,2,3)\n",
        "plt.imshow(digits_square[1])\n",
        "\n",
        "plt.subplot(2,2,4)\n",
        "plt.imshow(digits_square[8])\n",
        "\n",
        "plt.show()\n"
      ],
      "execution_count": 10,
      "outputs": [
        {
          "output_type": "display_data",
          "data": {
            "text/plain": [
              "<Figure size 432x288 with 0 Axes>"
            ]
          },
          "metadata": {
            "tags": []
          }
        },
        {
          "output_type": "display_data",
          "data": {
            "image/png": "[encoded data removed]",
            "text/plain": [
              "<Figure size 432x288 with 4 Axes>"
            ]
          },
          "metadata": {
            "tags": []
          }
        }
      ]
    },
    {
      "cell_type": "markdown",
      "metadata": {
        "id": "InIKbj_wO4mn",
        "colab_type": "text"
      },
      "source": [
        "Now we can easily see that these are in fact numbers and they correspond to the digits in `target`."
      ]
    },
    {
      "cell_type": "markdown",
      "metadata": {
        "id": "FO0X62soO4mp",
        "colab_type": "text"
      },
      "source": [
        "Now, imagine a new person writes a new digit that is not in the dataset and we want to automatically predict what this digit is by looking just at the image. For this purpose, we must develop an algorithm that can tell us this.\n",
        "\n",
        "Now, suppose we've written the algorithm, how do we test it without having the new images? Well, we can use the existing labels in order to know what the right answer is and then compare that to our algorithms answer. We will repeat the process for a random 30% of all digits and calculate the overall accuracy of our algorithm by: (correct answers)/(total).\n",
        "\n",
        "In short, you need to create a function that takes N number of digits and outputs an ndarray of (N,) with the predictions for each digit, all of these will be compared against the real values.\n",
        "\n",
        "In order to make this easier, we will only be comparing two classess of digits and classifing wether a digit is one of the two, you can choose which two digits to classify."
      ]
    },
    {
      "cell_type": "code",
      "metadata": {
        "id": "fVhJmzXMO4ms",
        "colab_type": "code",
        "colab": {}
      },
      "source": [
        "import random\n",
        "import numpy as np"
      ],
      "execution_count": 0,
      "outputs": []
    },
    {
      "cell_type": "code",
      "metadata": {
        "id": "xIpUrcz0O4m2",
        "colab_type": "code",
        "outputId": "2309e1cf-7a77-4ba9-9f4f-8473efe28f9b",
        "colab": {
          "base_uri": "https://localhost:8080/",
          "height": 452
        }
      },
      "source": [
        "def generate_random_indices(percentage, class1, class2):\n",
        "    indices_of_class1 = np.nonzero(target == class1)[0]\n",
        "    indices_of_class2 = np.nonzero(target == class2)[0]\n",
        "\n",
        "    min_length = min(len(indices_of_class1), len(indices_of_class2)) - 1\n",
        "\n",
        "    indices_of_class = np.concatenate((indices_of_class1[:min_length], indices_of_class2[:min_length]))\n",
        "\n",
        "    return random.sample(indices_of_class.tolist(),k=int(len(indices_of_class)*percentage))\n",
        "\n",
        "def get_random_data(class1, class2):\n",
        "    indices = generate_random_indices(0.3, class1, class2)\n",
        "    return digits[indices,:], target[indices]\n",
        "\n",
        "digits_sample, target_sample = get_random_data(1,8)\n",
        "print(digits_sample)\n",
        "print(target_sample)\n",
        "plt.imshow(digits_sample.reshape((-1, 8, 8))[0])\n",
        "#print(digits_sample.reshape((-1, 8, 8))[0,])"
      ],
      "execution_count": 30,
      "outputs": [
        {
          "output_type": "stream",
          "text": [
            "[[ 0.  0.  0. ...  1.  0.  0.]\n",
            " [ 0.  0.  6. ... 11.  0.  0.]\n",
            " [ 0.  0.  0. ...  8.  0.  0.]\n",
            " ...\n",
            " [ 0.  0.  0. ... 11. 15.  2.]\n",
            " [ 0.  0.  1. ...  3.  0.  0.]\n",
            " [ 0.  0.  5. ...  0.  0.  0.]]\n",
            "[1 8 1 1 8 1 1 1 8 1 8 8 1 1 8 1 8 8 1 1 8 8 1 1 8 8 8 1 8 1 8 8 8 8 1 8 1\n",
            " 8 8 1 8 8 8 1 8 8 8 1 1 8 1 1 8 8 8 1 8 1 1 8 1 1 8 1 8 8 1 1 8 8 8 8 8 8\n",
            " 8 1 1 1 8 8 1 1 1 8 8 8 8 8 8 8 8 8 8 8 1 8 8 1 8 1 8 1 8]\n"
          ],
          "name": "stdout"
        },
        {
          "output_type": "execute_result",
          "data": {
            "text/plain": [
              "<matplotlib.image.AxesImage at 0x7f372da59a20>"
            ]
          },
          "metadata": {
            "tags": []
          },
          "execution_count": 30
        },
        {
          "output_type": "display_data",
          "data": {
            "image/png": "[encoded data removed]",
            "text/plain": [
              "<Figure size 432x288 with 1 Axes>"
            ]
          },
          "metadata": {
            "tags": []
          }
        }
      ]
    },
    {
      "cell_type": "markdown",
      "metadata": {
        "id": "SlYbZMY_O4nC",
        "colab_type": "text"
      },
      "source": [
        "Here we have applied some functions to extract a random 30% of the digits along with their target values, these digits will be the input to your algorithm, which you should complete below."
      ]
    },
    {
      "cell_type": "code",
      "metadata": {
        "id": "YDRgATA1O4nF",
        "colab_type": "code",
        "colab": {}
      },
      "source": [
        "def predict(digs): # TODO: Complete the function with an algorithm that must take digits and for each one return a multidimensional array containing the predicted labels\n",
        "    squares = digs.reshape(-1, 8, 8) #los organiza como cuadraditos por numero\n",
        "   # print(squares[0,]) Asi se obtiene el cuadradito que es un numero\n",
        "    predictions = np.arange(digs.shape[0])\n",
        "    indx = 0\n",
        "    #ws = []\n",
        "    for i in squares: # se hace el loop para cada clasificar cada numero\n",
        "        whiteCols = 0\n",
        "        blackCols = 0\n",
        "        j1 = 0 # limites verticales de la columna - indices\n",
        "        j2 = 1\n",
        "        for col in range(1,9): # se analizan las 8 columnas para buscar un trazo vertical unico = 1 y definir una columna como casti toda blanca o negra\n",
        "            theCol = i[:, j1:j2]\n",
        "            av = np.average(theCol)\n",
        "            if av > 14:\n",
        "                whiteCols += 1\n",
        "            elif av==0 or av<=4:\n",
        "                blackCols += 1\n",
        "            j1 += 1\n",
        "            j2 += 1\n",
        "        if (whiteCols==2 or whiteCols==1) and blackCols>=3 :\n",
        "            predictions[indx] = 1\n",
        "        elif whiteCols==0 or true:\n",
        "            predictions[indx] = 8\n",
        "        indx += 1\n",
        "        #ws.append(whiteCols)\n",
        "        whiteCols = 0\n",
        "        blackCols = 0\n",
        "    #print(ws)\n",
        "    return predictions"
      ],
      "execution_count": 0,
      "outputs": []
    },
    {
      "cell_type": "markdown",
      "metadata": {
        "id": "JKyyr2SCO4nL",
        "colab_type": "text"
      },
      "source": [
        "We will now define the function that will calculate our accuracy."
      ]
    },
    {
      "cell_type": "code",
      "metadata": {
        "id": "vOfmjWNBO4nN",
        "colab_type": "code",
        "colab": {}
      },
      "source": [
        "def accuracy(predictions):\n",
        "    return np.count_nonzero(target_sample == predictions)/len(target_sample)"
      ],
      "execution_count": 0,
      "outputs": []
    },
    {
      "cell_type": "markdown",
      "metadata": {
        "id": "14YE7pKvO4nW",
        "colab_type": "text"
      },
      "source": [
        "This function compares which predictions are equal to the real value and divides by the total in the sample. The following code will test your accuracy."
      ]
    },
    {
      "cell_type": "code",
      "metadata": {
        "id": "HBB7NnWTO4nY",
        "colab_type": "code",
        "outputId": "eed57816-014d-478b-c42d-7157a7d5bb9f",
        "colab": {
          "base_uri": "https://localhost:8080/",
          "height": 34
        }
      },
      "source": [
        "accuracy(predict(digits_sample))"
      ],
      "execution_count": 33,
      "outputs": [
        {
          "output_type": "execute_result",
          "data": {
            "text/plain": [
              "0.9029126213592233"
            ]
          },
          "metadata": {
            "tags": []
          },
          "execution_count": 33
        }
      ]
    },
    {
      "cell_type": "code",
      "metadata": {
        "id": "B6_vBHIwQTDX",
        "colab_type": "code",
        "colab": {}
      },
      "source": [
        "#print(target_sample)"
      ],
      "execution_count": 0,
      "outputs": []
    },
    {
      "cell_type": "code",
      "metadata": {
        "id": "14LniIJRHaRF",
        "colab_type": "code",
        "outputId": "58131f18-319f-4fa2-e9d9-56855e114d96",
        "colab": {
          "base_uri": "https://localhost:8080/",
          "height": 119
        }
      },
      "source": [
        "#plt.imshow(digits_sample.reshape((-1, 8, 8))[0])\n",
        "#print(digits_sample.reshape((-1, 8, 8))[0,])\n",
        "\n",
        "print(predict(digits_sample))\n",
        "print(target_sample)"
      ],
      "execution_count": 35,
      "outputs": [
        {
          "output_type": "stream",
          "text": [
            "[1 8 1 1 8 8 1 1 8 1 8 8 1 1 1 1 8 8 1 8 8 8 1 8 8 8 8 1 8 8 8 8 8 8 1 8 1\n",
            " 8 8 1 8 1 8 1 8 8 8 1 1 8 1 1 8 8 8 1 8 1 8 8 1 1 8 8 8 8 1 1 8 8 8 8 8 8\n",
            " 8 1 1 1 8 8 1 8 1 8 1 8 8 8 8 8 8 8 8 8 1 8 8 1 8 1 8 1 8]\n",
            "[1 8 1 1 8 1 1 1 8 1 8 8 1 1 8 1 8 8 1 1 8 8 1 1 8 8 8 1 8 1 8 8 8 8 1 8 1\n",
            " 8 8 1 8 8 8 1 8 8 8 1 1 8 1 1 8 8 8 1 8 1 1 8 1 1 8 1 8 8 1 1 8 8 8 8 8 8\n",
            " 8 1 1 1 8 8 1 1 1 8 8 8 8 8 8 8 8 8 8 8 1 8 8 1 8 1 8 1 8]\n"
          ],
          "name": "stdout"
        }
      ]
    }
  ]
}